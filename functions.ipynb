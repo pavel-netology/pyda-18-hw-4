{
 "cells": [
  {
   "cell_type": "code",
   "execution_count": 1,
   "metadata": {},
   "outputs": [],
   "source": [
    "documents = [\n",
    "{'type': 'passport', 'number': '2207 876234', 'name': 'Василий Гупкин'},\n",
    "{'type': 'invoice', 'number': '11-2', 'name': 'Геннадий Покемонов'},\n",
    "{'type': 'insurance', 'number': '10006', 'name': 'Аристарх Павлов'}\n",
    "]\n",
    "directories = {\n",
    "'1': ['2207 876234', '11-2'],\n",
    "'2': ['10006'],\n",
    "'3': ['']\n",
    "}"
   ]
  },
  {
   "cell_type": "code",
   "execution_count": 2,
   "metadata": {},
   "outputs": [],
   "source": [
    "# Пункт 1. Пользователь по команде “p” может узнать владельца документа по его номеру\n",
    "def doc_owner_1():\n",
    "    number_input=input('Введите номер документа: ')\n",
    "    for doc in documents:\n",
    "        if number_input == doc['number']:\n",
    "            print('Владелец документа: ',doc['name'])\n",
    "            return\n",
    "            \n",
    "    print('Документ не найден в базе')\n",
    "    return\n",
    "    \n",
    "#doc_owner_1()"
   ]
  },
  {
   "cell_type": "code",
   "execution_count": 3,
   "metadata": {},
   "outputs": [],
   "source": [
    "# Пункт 2. Пользователь по команде “s” может по номеру документа узнать на какой полке он хранится\n",
    "def doc_shelf_2():\n",
    "    number_input=input('Введите номер документа: ')\n",
    "    for shelf,doc_number in directories.items():\n",
    "        if number_input in doc_number:\n",
    "            print('Документ хранится на полке: ', shelf)\n",
    "            return \n",
    "        print('Документ не найден в базе')\n",
    "        return "
   ]
  },
  {
   "cell_type": "code",
   "execution_count": 4,
   "metadata": {},
   "outputs": [],
   "source": [
    "# Пункт 3. Пользователь по команде \"l\" может увидеть полную информацию по всем документам\n",
    "def all_docs():    \n",
    "    for data_string in documents:\n",
    "        print(f\"№: {data_string['number']}, тип: {data_string['type']}, владелец: {data_string['name']}\", end=', ' )\n",
    "        for shelf,doc_number in directories.items():\n",
    "                if data_string['number'] in doc_number:\n",
    "                    print('полка хранения: ', shelf)"
   ]
  },
  {
   "cell_type": "code",
   "execution_count": 5,
   "metadata": {},
   "outputs": [],
   "source": [
    "# Пункт 4. Пользователь по команде \"ads\" может добавить новую полку\n",
    "def add_shelf():\n",
    "    number_shelf=input('Введите номер полки: ')\n",
    "    if number_shelf not in directories.keys():\n",
    "        directories[number_shelf] = []\n",
    "        print('Полка добавлена!', end=(' '))\n",
    "    else:\n",
    "        print('Такая полка уже существует!', end=(' '))\n",
    "    print('Текущий перечень полок: ', end=(' '))\n",
    "    for shelfs in directories.keys():\n",
    "        print(shelfs, end=(','))"
   ]
  },
  {
   "cell_type": "code",
   "execution_count": 6,
   "metadata": {},
   "outputs": [],
   "source": [
    "#Пункт 5. Пользователь по команде \"ds\" может удалить существующую полку из данных (только если она пустая)\n",
    "def del_shelf():\n",
    "    number_shelf=input('Введите номер полки: ')\n",
    "    if number_shelf in directories.keys()  and len(directories[number_shelf])==0:\n",
    "            del(directories[number_shelf])\n",
    "            print('Папка удалена!', end=(' '))\n",
    "    elif number_shelf in directories.keys()  and len(directories[number_shelf])>0:\n",
    "            print('На полке есть документа, удалите их перед удалением полки!', end=(' ')) \n",
    "    else:\n",
    "            print('Такой полки не существует!', end=(' '))\n",
    "    print('Текущий перечень полок: ', end=(' '))\n",
    "    for shelfs in directories.keys():\n",
    "        print(shelfs, end=(','))"
   ]
  },
  {
   "cell_type": "code",
   "execution_count": 7,
   "metadata": {},
   "outputs": [],
   "source": [
    "# Пункт 6. Пользователь по команде \"ad\" может добавить новый документ в данные\n",
    "def add_doc():\n",
    "    dict_doc={}\n",
    "    dict_doc['number']=input('Введите номер документа: ')\n",
    "    dict_doc['type']=input('Введите тип документа: ')\n",
    "    dict_doc['name']=input('Введите владельца документа: ')\n",
    "    shelf=input('Введите полку для хранения: ')\n",
    "    if shelf in directories.keys():\n",
    "        documents.append(dict_doc)\n",
    "        directories[shelf]+=[dict_doc['number']]\n",
    "        print('Документ добавлен. Текущий список документов: ')\n",
    "        return all_docs()\n",
    "    else:\n",
    "        print('Такой полки не существует. Добавьте полку командой as. Текущий список документов: ')\n",
    "        return all_docs()\n",
    "#add_doc ()"
   ]
  },
  {
   "cell_type": "code",
   "execution_count": 8,
   "metadata": {},
   "outputs": [],
   "source": [
    "# Пункт 7. Пользователь по команде \"d\" может удалить документ из данных\n",
    "\n",
    "def del_doc():\n",
    "    number_input=input('Введите номер документа: ')\n",
    "    for doc in documents:\n",
    "            if number_input == doc['number']:\n",
    "                documents.remove(doc)\n",
    "                for shelf in directories.values():\n",
    "                    if number_input in shelf:\n",
    "                        shelf.remove(number_input)\n",
    "                print('Документ удален. Текущий список документов: ')\n",
    "                return all_docs()\n",
    "    print('Документ не найден в базе. Текущий список документов: ')\n",
    "    return all_docs()\n",
    "#del_doc()"
   ]
  },
  {
   "cell_type": "code",
   "execution_count": 9,
   "metadata": {},
   "outputs": [],
   "source": [
    "# Пункт 8. Пользователь по команде \"m\" может переместить документ с полки на полку\n",
    "\n",
    "def replace_shelf():\n",
    "    number_input=input('Введите номер документа: ')\n",
    "    shelf_input=input('Введите номер полки: ')\n",
    "    for shelf,doc_number in directories.items():\n",
    "        if number_input in doc_number:\n",
    "            if shelf_input in directories.keys():\n",
    "                doc_number.remove(number_input)\n",
    "                directories[shelf_input]+=[number_input]\n",
    "                print('Документ перемещен.\\nТекущий список документов: ')\n",
    "                return all_docs()\n",
    "            elif shelf_input not in directories.keys():\n",
    "                print('Такой полки не существует.\\nТекущий перечень полок: ')\n",
    "                for shelfs in directories.keys():\n",
    "                    print(shelfs, end=(','))\n",
    "            return   \n",
    "    print('Документ не найден в базе.\\nТекущий список документов: ')\n",
    "    return all_docs()\n",
    "#replace_shelf()"
   ]
  },
  {
   "cell_type": "code",
   "execution_count": 11,
   "metadata": {},
   "outputs": [
    {
     "name": "stdout",
     "output_type": "stream",
     "text": [
      "Введите команду: ads\n",
      "Введите номер полки: 2\n",
      "Такая полка уже существует! Текущий перечень полок:  1,2,3,Введите команду: ads\n",
      "Введите номер полки: 4\n",
      "Полка добавлена! Текущий перечень полок:  1,2,3,4,Введите команду: p\n",
      "Введите номер документа: 11-2\n",
      "Владелец документа:  Геннадий Покемонов\n",
      "Введите команду: q\n",
      "Конец игры. Программа завершена!\n"
     ]
    }
   ],
   "source": [
    "def main():\n",
    "    cmd=0\n",
    "    while cmd != 'q':\n",
    "        cmd=input('Введите команду: ')\n",
    "        if cmd == 'p':\n",
    "            doc_owner_1()\n",
    "        elif cmd == 's':\n",
    "            doc_shelf_2()\n",
    "        elif cmd == 'l':\n",
    "            all_docs()\n",
    "        elif cmd == 'ads':\n",
    "            add_shelf()\n",
    "        elif cmd == 'ds':\n",
    "            del_shelf()\n",
    "        elif cmd == 'ad':\n",
    "            add_doc()\n",
    "        elif cmd == 'd':\n",
    "            del_doc()\n",
    "        elif cmd == 'm':\n",
    "            replace_shelf()\n",
    "        elif cmd == 'q':\n",
    "            print('Конец игры. Программа завершена!')\n",
    "        else:\n",
    "            print('Некорректная команда! Воспользуйтесь, пожалуйста справочником команд.')\n",
    "main()"
   ]
  }
 ],
 "metadata": {
  "kernelspec": {
   "display_name": "Python 3",
   "language": "python",
   "name": "python3"
  },
  "language_info": {
   "codemirror_mode": {
    "name": "ipython",
    "version": 3
   },
   "file_extension": ".py",
   "mimetype": "text/x-python",
   "name": "python",
   "nbconvert_exporter": "python",
   "pygments_lexer": "ipython3",
   "version": "3.8.5"
  }
 },
 "nbformat": 4,
 "nbformat_minor": 4
}
